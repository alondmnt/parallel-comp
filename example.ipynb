{
 "cells": [
  {
   "cell_type": "markdown",
   "metadata": {},
   "source": [
    "# pbsmgr notebook\n",
    "\n",
    "we'll go through a small-scale example of _pbsmgr_ tools.\n",
    "\n",
    "TODO: a multiple job example with different priorities."
   ]
  },
  {
   "cell_type": "code",
   "execution_count": 1,
   "metadata": {},
   "outputs": [],
   "source": [
    "import os\n",
    "import pbsmgr as pbs\n",
    "pbs.QFile = 'example/job_queue.pkl'\n",
    "pbs.JobDir = 'example/'"
   ]
  },
  {
   "cell_type": "markdown",
   "metadata": {},
   "source": [
    "## generate a job"
   ]
  },
  {
   "cell_type": "markdown",
   "metadata": {},
   "source": [
    "we'll start from the default template and update it with data relevant to our example. note that these functions may be run offline."
   ]
  },
  {
   "cell_type": "code",
   "execution_count": 2,
   "metadata": {},
   "outputs": [
    {
     "data": {
      "text/plain": [
       "{'BatchID': 1524642184,\n",
       " 'CodeDir': '/tamir1/dalon/github-test/code',\n",
       " 'JobIndex': 0,\n",
       " 'data': None,\n",
       " 'jobfile': None,\n",
       " 'name': ['pbsmgr example'],\n",
       " 'priority': 1,\n",
       " 'queue': 'tamirs3',\n",
       " 'resources': {'cput': '04:59:00',\n",
       "  'mem': '1gb',\n",
       "  'pmem': '1gb',\n",
       "  'pvmem': '3gb',\n",
       "  'vmem': '3gb'},\n",
       " 'script': 'example/template.sh',\n",
       " 'status': 'init'}"
      ]
     },
     "execution_count": 2,
     "metadata": {},
     "output_type": "execute_result"
    }
   ],
   "source": [
    "jobinfo = pbs.get_job_template(SetID=True)\n",
    "jobinfo['name'] = ['pbsmgr example']\n",
    "jobinfo['CodeDir'] = os.path.abspath('.')\n",
    "jobinfo['JobIndex'] = 0\n",
    "jobinfo['script'] = 'example/template.sh'\n",
    "jobinfo"
   ]
  },
  {
   "cell_type": "markdown",
   "metadata": {},
   "source": [
    "now let's add some random data for the job to operate on."
   ]
  },
  {
   "cell_type": "code",
   "execution_count": 3,
   "metadata": {},
   "outputs": [
    {
     "data": {
      "text/plain": [
       "'example//1524642184/data_0.pkl'"
      ]
     },
     "execution_count": 3,
     "metadata": {},
     "output_type": "execute_result"
    }
   ],
   "source": [
    "from numpy.random import randint\n",
    "data = randint(1, 100, (1, 10**4))\n",
    "pbs.generate_data(jobinfo, data)\n",
    "jobinfo['data']"
   ]
  },
  {
   "cell_type": "code",
   "execution_count": 4,
   "metadata": {},
   "outputs": [
    {
     "data": {
      "text/plain": [
       "'example/1524642184/template_1524642184_0.sh'"
      ]
     },
     "execution_count": 4,
     "metadata": {},
     "output_type": "execute_result"
    }
   ],
   "source": [
    "pbs.generate_script(jobinfo)\n",
    "jobinfo['script']"
   ]
  },
  {
   "cell_type": "code",
   "execution_count": 5,
   "metadata": {},
   "outputs": [],
   "source": [
    "pbs.add_job_to_queue(jobinfo)"
   ]
  },
  {
   "cell_type": "markdown",
   "metadata": {},
   "source": [
    "now let's check that a new job was added to our queue:"
   ]
  },
  {
   "cell_type": "code",
   "execution_count": 6,
   "metadata": {},
   "outputs": [
    {
     "name": "stdout",
     "output_type": "stream",
     "text": [
      "\n",
      "1524642184: pbsmgr example\n",
      "{'init': [0]}\n",
      "\n",
      "missing jobs: {}\n",
      "\n",
      "total jobs on PBS queue: 1\n"
     ]
    }
   ],
   "source": [
    "pbs.get_queue()"
   ]
  },
  {
   "cell_type": "markdown",
   "metadata": {},
   "source": [
    "and verify that the metadata has been properly stored:"
   ]
  },
  {
   "cell_type": "code",
   "execution_count": 8,
   "metadata": {},
   "outputs": [
    {
     "data": {
      "text/plain": [
       "{'BatchID': 1524642184,\n",
       " 'CodeDir': '/tamir1/dalon/github-test/code',\n",
       " 'JobIndex': 0,\n",
       " 'data': 'example//1524642184/data_0.pkl',\n",
       " 'jobfile': 'example/1524642184/meta_0.pkl',\n",
       " 'name': ['pbsmgr example'],\n",
       " 'priority': 1,\n",
       " 'queue': 'tamirs3',\n",
       " 'resources': {'cput': '04:59:00',\n",
       "  'mem': '1gb',\n",
       "  'pmem': '1gb',\n",
       "  'pvmem': '3gb',\n",
       "  'vmem': '3gb'},\n",
       " 'script': 'example/1524642184/template_1524642184_0.sh',\n",
       " 'status': 'init',\n",
       " 'updating_info': False}"
      ]
     },
     "execution_count": 8,
     "metadata": {},
     "output_type": "execute_result"
    }
   ],
   "source": [
    "pbs.get_job_info(1524642184, 0)"
   ]
  },
  {
   "cell_type": "markdown",
   "metadata": {},
   "source": [
    "## submit jobs\n",
    "the only job control function that must run on a PBS server."
   ]
  },
  {
   "cell_type": "code",
   "execution_count": 9,
   "metadata": {},
   "outputs": [
    {
     "name": "stdout",
     "output_type": "stream",
     "text": [
      "submiting:\texample/1524642184/template_1524642184_0.sh\n",
      "max jobs: 1000\n",
      "in queue: 1\n",
      "submitted: 1\n"
     ]
    }
   ],
   "source": [
    "pbs.submit_jobs()"
   ]
  },
  {
   "cell_type": "markdown",
   "metadata": {},
   "source": [
    "## monitor jobs"
   ]
  },
  {
   "cell_type": "markdown",
   "metadata": {},
   "source": [
    "let's check if the job is indeed online and running: (note the * next to job-0 in the batch, which indicates that)"
   ]
  },
  {
   "cell_type": "code",
   "execution_count": 12,
   "metadata": {},
   "outputs": [
    {
     "name": "stdout",
     "output_type": "stream",
     "text": [
      "\n",
      "1524642184: pbsmgr example\n",
      "{'submit': ['0*']}\n",
      "\n",
      "missing jobs: {}\n",
      "\n",
      "total jobs on PBS queue: 2\n",
      "running/complete/total: 1/0/1\n"
     ]
    }
   ],
   "source": [
    "pbs.get_queue()"
   ]
  },
  {
   "cell_type": "markdown",
   "metadata": {},
   "source": [
    "this is how the output looks when the job has completed:"
   ]
  },
  {
   "cell_type": "code",
   "execution_count": 13,
   "metadata": {},
   "outputs": [
    {
     "name": "stdout",
     "output_type": "stream",
     "text": [
      "\n",
      "1524642184: pbsmgr example\n",
      "{'complete': [0]}\n",
      "\n",
      "missing jobs: {}\n",
      "\n",
      "total jobs on PBS queue: 1\n"
     ]
    }
   ],
   "source": [
    "pbs.get_queue()"
   ]
  },
  {
   "cell_type": "markdown",
   "metadata": {},
   "source": [
    "we can now check the logs created by the job (stdout and sterr), and its post-run metadata (which includes a PBS status report, for example). the results may have been written to a designated file by now."
   ]
  },
  {
   "cell_type": "code",
   "execution_count": 15,
   "metadata": {
    "scrolled": true
   },
   "outputs": [
    {
     "name": "stdout",
     "output_type": "stream",
     "text": [
      "\n",
      "\n",
      "[[[stdout log for 1524642184/pbsmgr example/part_0:]]]\n",
      "\n",
      "{'BatchID': 1524642184, 'JobIndex': 0, 'priority': 1, 'name': ['pbsmgr example'], 'data': 'example//1524642184/data_0.pkl', 'script': 'example/1524642184/template_1524642184_0.sh', 'queue': 'tamirs3', 'jobfile': 'example/1524642184/meta_0.pkl', 'resources': {'mem': '1gb', 'pmem': '1gb', 'vmem': '3gb', 'pvmem': '3gb', 'cput': '04:59:00'}, 'status': 'submit', 'CodeDir': '/tamir1/dalon/github-test/code', 'updating_info': False, 'subtime': 1524642202.8677227, 'PBS_ID': '8084220', 'hostname': 'compute-0-85.power5', 'stdout': ['example//1524642184/logs/8084220.power8.tau.ac.il.OU'], 'stderr': ['example//1524642184/logs/8084220.power8.tau.ac.il.ER']}\n",
      "50.0932\n"
     ]
    },
    {
     "data": {
      "text/plain": [
       "{'BatchID': 1524642184,\n",
       " 'CodeDir': '/tamir1/dalon/github-test/code',\n",
       " 'JobIndex': 0,\n",
       " 'PBS_ID': '8084220',\n",
       " 'data': 'example//1524642184/data_0.pkl',\n",
       " 'hostname': 'compute-0-85.power5',\n",
       " 'jobfile': 'example/1524642184/meta_0.pkl',\n",
       " 'name': ['pbsmgr example'],\n",
       " 'priority': 1,\n",
       " 'qstat': {'Checkpoint': 'u',\n",
       "  'Error_Path': 'compute-0-83',\n",
       "  'Hold_Types': 'n',\n",
       "  'Job_Name': 'template_1524642184_0',\n",
       "  'Job_Owner': 'dalon',\n",
       "  'Join_Path': 'n',\n",
       "  'Keep_Files': 'n',\n",
       "  'Mail_Points': 'a',\n",
       "  'Output_Path': 'compute-0-83',\n",
       "  'Priority': '0',\n",
       "  'Rerunable': 'True',\n",
       "  'Resource_List.cput': '04:59:00',\n",
       "  'Resource_List.mem': '1gb',\n",
       "  'Resource_List.ncpus': '1',\n",
       "  'Resource_List.nodect': '1',\n",
       "  'Resource_List.place': 'pack',\n",
       "  'Resource_List.pmem': '1gb',\n",
       "  'Resource_List.pvmem': '3gb',\n",
       "  'Resource_List.select': '1:mem',\n",
       "  'Resource_List.vmem': '3gb',\n",
       "  'Resource_List.walltime': '2400:00:00',\n",
       "  'Submit_arguments': '-q tamirs3 -e /tamir1/dalon/github-test/code/example/152',\n",
       "  'Variable_List': 'PBS_O_HOME',\n",
       "  'comment': 'Job run at Wed Apr 25 at 10:44 on ',\n",
       "  'ctime': 'Wed Apr 25 10:43:21 2018',\n",
       "  'eligible_time': '00:00:00',\n",
       "  'etime': 'Wed Apr 25 10:43:22 2018',\n",
       "  'exec_host': 'compute-0-85/2',\n",
       "  'exec_vnode': '',\n",
       "  'job_state': 'R',\n",
       "  'jobdir': '/a/home/cc/enginer/dalon',\n",
       "  'mtime': 'Wed Apr 25 10:44:01 2018',\n",
       "  'project': '_pbs_project_default',\n",
       "  'qtime': 'Wed Apr 25 10:43:22 2018',\n",
       "  'queue': 'tamir-nano4',\n",
       "  'resources_used.cpupercent': '0',\n",
       "  'resources_used.cput': '00:00:00',\n",
       "  'resources_used.mem': '24320kb',\n",
       "  'resources_used.ncpus': '1',\n",
       "  'resources_used.vmem': '456456kb',\n",
       "  'resources_used.walltime': '00:00:49',\n",
       "  'run_count': '1',\n",
       "  'server': 'power8',\n",
       "  'session_id': '109637',\n",
       "  'stime': 'Wed Apr 25 10:44:01 2018',\n",
       "  'substate': '42'},\n",
       " 'queue': 'tamirs3',\n",
       " 'resources': {'cput': '04:59:00',\n",
       "  'mem': '1gb',\n",
       "  'pmem': '1gb',\n",
       "  'pvmem': '3gb',\n",
       "  'vmem': '3gb'},\n",
       " 'script': 'example/1524642184/template_1524642184_0.sh',\n",
       " 'status': 'complete',\n",
       " 'stderr': ['example//1524642184/logs/8084220.power8.tau.ac.il.ER'],\n",
       " 'stdout': ['example//1524642184/logs/8084220.power8.tau.ac.il.OU'],\n",
       " 'subtime': 1524642202.8677227,\n",
       " 'updating_info': False}"
      ]
     },
     "execution_count": 15,
     "metadata": {},
     "output_type": "execute_result"
    }
   ],
   "source": [
    "pbs.print_log(1524642184, 0, 'stdout')\n",
    "pbs.get_job_info(1524642184, 0)"
   ]
  },
  {
   "cell_type": "markdown",
   "metadata": {},
   "source": [
    "finally, we may clear all batches that have completed all their jobs using the following functions:"
   ]
  },
  {
   "cell_type": "code",
   "execution_count": 16,
   "metadata": {},
   "outputs": [
    {
     "name": "stdout",
     "output_type": "stream",
     "text": [
      "\n",
      "missing jobs: {}\n",
      "\n",
      "total jobs on PBS queue: 1\n"
     ]
    }
   ],
   "source": [
    "pbs.remove_batch_by_state('complete')\n",
    "pbs.get_queue()"
   ]
  },
  {
   "cell_type": "markdown",
   "metadata": {},
   "source": [
    "may the power of PBS be with you!"
   ]
  }
 ],
 "metadata": {
  "kernelspec": {
   "display_name": "Python 3",
   "language": "python",
   "name": "python3"
  },
  "language_info": {
   "codemirror_mode": {
    "name": "ipython",
    "version": 3
   },
   "file_extension": ".py",
   "mimetype": "text/x-python",
   "name": "python",
   "nbconvert_exporter": "python",
   "pygments_lexer": "ipython3",
   "version": "3.6.4"
  }
 },
 "nbformat": 4,
 "nbformat_minor": 2
}
